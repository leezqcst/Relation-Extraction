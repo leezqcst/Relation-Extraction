{
 "cells": [
  {
   "cell_type": "code",
   "execution_count": 7,
   "metadata": {
    "collapsed": false
   },
   "outputs": [],
   "source": [
    "from __future__ import print_function\n",
    "import numpy as np\n",
    "import tensorflow as tf\n",
    "import matplotlib.pyplot as plt\n",
    "import re\n",
    "import collections\n",
    "import random\n",
    "from time import time\n",
    "\n",
    "from gensim.models import Word2Vec\n",
    "from sklearn.manifold import TSNE\n",
    "from sklearn.decomposition import PCA, FastICA\n",
    "\n",
    "import data_handler as dh\n",
    "import semeval_data_helper as sdh\n",
    "\n",
    "\n",
    "# plot settings\n",
    "% matplotlib inline\n",
    "# print(plt.rcParams.keys())\n",
    "# plt.rcParams['figure.figsize'] = (16,9)\n",
    "\n",
    "import mpld3"
   ]
  },
  {
   "cell_type": "code",
   "execution_count": 1,
   "metadata": {
    "collapsed": false
   },
   "outputs": [],
   "source": [
    "# reload(sdh)"
   ]
  },
  {
   "cell_type": "code",
   "execution_count": 2,
   "metadata": {
    "collapsed": false
   },
   "outputs": [],
   "source": [
    "# reload(nn)\n",
    "import relembed as nn"
   ]
  },
  {
   "cell_type": "code",
   "execution_count": 3,
   "metadata": {
    "collapsed": false
   },
   "outputs": [],
   "source": [
    "# reload(eh)\n",
    "import experiment_helper as eh"
   ]
  },
  {
   "cell_type": "code",
   "execution_count": 4,
   "metadata": {
    "collapsed": true
   },
   "outputs": [],
   "source": [
    "shuffle_seed = 20"
   ]
  },
  {
   "cell_type": "code",
   "execution_count": 8,
   "metadata": {
    "collapsed": false
   },
   "outputs": [
    {
     "name": "stdout",
     "output_type": "stream",
     "text": [
      "Creating Data objects...\n",
      "Done creating Data objects\n",
      "7999 total examples :: 7199 training : 800 valid (90:10 split)\n",
      "Vocab size: 22683 Dep size: 50 POS size: 18\n"
     ]
    }
   ],
   "source": [
    "# reload(dh)\n",
    "DH = dh.DataHandler('data/semeval_train_sdp_8000', valid_percent=10, shuffle_seed=shuffle_seed) # for semeval"
   ]
  },
  {
   "cell_type": "code",
   "execution_count": 9,
   "metadata": {
    "collapsed": false
   },
   "outputs": [
    {
     "name": "stdout",
     "output_type": "stream",
     "text": [
      "Didn't find common ancestor\n",
      "1790\t\"The imams were removed from a US Airways <e1>flight</e1> awaiting departure from the Minneapolis-St. Paul <e2>airport</e2>.\"\n",
      "\n",
      "(The imams were removed from a US Airways flight awaiting departure from the Minneapolis - St . Paul airport ., flight , airport )\n",
      "Bad sentence: '1790\\t\"The imams were removed from a US Airways <e1>flight</e1> awaiting departure from the Minneapolis-St. Paul <e2>airport</e2>.\"\\r\\n'\n",
      "((The imams were removed from a US Airways flight awaiting departure from the Minneapolis - St . Paul airport ., flight , airport ), None)\n",
      "Skipping this one... '1790\\t\"The imams were removed from a US Airways <e1>flight</e1> awaiting departure from the Minneapolis-St. Paul <e2>airport</e2>.\"\\r\\n'\n",
      "(None, None, None, 4)\n",
      "Num training: 7199\n",
      "Num valididation: 800\n",
      "Didn't find common ancestor\n",
      "8310\t\"Tributes have been paid to the <e1>writer</e1> who created Goodness Gracious Me, the hit BBC television <e2>series</e2>.\"\n",
      "\n",
      "(Tributes have been paid to the writer who created Goodness Gracious Me , the hit BBC television series ., writer , series )\n",
      "Bad sentence: '8310\\t\"Tributes have been paid to the <e1>writer</e1> who created Goodness Gracious Me, the hit BBC television <e2>series</e2>.\"\\r\\n'\n",
      "((Tributes have been paid to the writer who created Goodness Gracious Me , the hit BBC television series ., writer , series ), None)\n",
      "Skipping this one... '8000\\t\"The <e1>surgeon</e1> cuts a small <e2>hole</e2> in the skull and lifts the edge of the brain to expose the nerve.\"\\r\\n'\n",
      "(None, None, None, 3)\n",
      "Num testing: 2717\n"
     ]
    }
   ],
   "source": [
    "# reload(sdh)\n",
    "train, valid, test, label2int, int2label = sdh.load_semeval_data(include_ends=False, shuffle_seed=shuffle_seed)\n",
    "num_classes = len(int2label.keys())"
   ]
  },
  {
   "cell_type": "code",
   "execution_count": 10,
   "metadata": {
    "collapsed": false
   },
   "outputs": [
    {
     "name": "stdout",
     "output_type": "stream",
     "text": [
      "([(u'<X>', u'compound', u'NOUN'), (u'<Y>', u'dobj', u'NOUN')], [(u'<X>', u'nsubj', u'NOUN'), (u'has', u'ROOT', u'VERB'), (u'player', u'dobj', u'NOUN'), (u'<Y>', u'compound', u'NOUN')], [(u'<X>', u'pobj', u'NOUN'), (u'of', u'prep', u'ADP'), (u'<Y>', u'pobj', u'NOUN')], [(u'<X>', u'nsubj', u'NOUN'), (u'is', u'ROOT', u'VERB'), (u'from', u'prep', u'ADP'), (u'<Y>', u'pobj', u'NOUN')], [(u'<X>', u'pobj', u'NOUN'), (u'of', u'prep', u'ADP'), (u'<Y>', u'pobj', u'NOUN')])\n",
      "((u'country', u'life'), (u'car', u'casette'), (u'jam', u'women'), (u'view', u'bridge'), (u'hill', u'corn'))\n",
      "[[[22679, 6, 0], [22680, 8, 0]], [[22679, 5, 0], [23, 7, 1], [522, 8, 0], [22680, 6, 0]], [[22679, 1, 0], [2, 2, 3], [22680, 1, 0]], [[22679, 5, 0], [8, 7, 1], [10, 2, 3], [22680, 1, 0]], [[22679, 1, 0], [2, 2, 3], [22680, 1, 0]]]\n",
      "[[180, 134], [150, 18979], [2494, 305], [769, 911], [2319, 1166]]\n"
     ]
    }
   ],
   "source": [
    "print(train['sdps'][:5]) # small sample\n",
    "print(train['targets'][:5]) # small sample\n",
    "\n",
    "# convert the semeval data to indices under the wiki vocab:\n",
    "train['sdps'] = DH.sentences_to_sequences(train['sdps'])\n",
    "valid['sdps'] = DH.sentences_to_sequences(valid['sdps'])\n",
    "test['sdps'] = DH.sentences_to_sequences(test['sdps'])\n",
    "    \n",
    "train['targets'] = DH.sentences_to_sequences(train['targets'])\n",
    "valid['targets'] = DH.sentences_to_sequences(valid['targets'])\n",
    "test['targets'] = DH.sentences_to_sequences(test['targets'])\n",
    "\n",
    "zip_train = zip(train['raws'], train['sents'], train['sdps'], train['targets'], train['labels'])\n",
    "zip_valid = zip(valid['raws'], valid['sents'], valid['sdps'], valid['targets'], valid['labels'])\n",
    "zip_test = zip(test['raws'], test['sents'], test['sdps'], test['targets'])\n",
    "\n",
    "print(train['sdps'][:5]) # small sample\n",
    "print(train['targets'][:5]) # small sample"
   ]
  },
  {
   "cell_type": "code",
   "execution_count": 11,
   "metadata": {
    "collapsed": false
   },
   "outputs": [
    {
     "name": "stdout",
     "output_type": "stream",
     "text": [
      "13 13\n"
     ]
    }
   ],
   "source": [
    "max_seq_len = max([len(path) for path in train['sdps']+valid['sdps']+test['sdps']])\n",
    "print(max_seq_len, DH.max_seq_len)\n",
    "DH.max_seq_len = max_seq_len"
   ]
  },
  {
   "cell_type": "markdown",
   "metadata": {},
   "source": [
    "# Get an idea of the distribution of structures"
   ]
  },
  {
   "cell_type": "code",
   "execution_count": 12,
   "metadata": {
    "collapsed": true
   },
   "outputs": [],
   "source": [
    "all_sdps = train['sdps'] + valid['sdps'] + test['sdps']"
   ]
  },
  {
   "cell_type": "code",
   "execution_count": 13,
   "metadata": {
    "collapsed": true
   },
   "outputs": [],
   "source": [
    "dep_structures = {}\n",
    "for sdp in all_sdps:\n",
    "    dep_structure = tuple([token[1] for token in sdp])\n",
    "    if dep_structure in dep_structures:\n",
    "        dep_structures[dep_structure] += 1\n",
    "    else:\n",
    "        dep_structures[dep_structure] = 1"
   ]
  },
  {
   "cell_type": "code",
   "execution_count": 14,
   "metadata": {
    "collapsed": false
   },
   "outputs": [
    {
     "name": "stderr",
     "output_type": "stream",
     "text": [
      "/Users/thomaseffland/.virtualenvs/rel/lib/python2.7/site-packages/IPython/core/formatters.py:92: DeprecationWarning: DisplayFormatter._ipython_display_formatter_default is deprecated: use @default decorator instead.\n",
      "  def _ipython_display_formatter_default(self):\n",
      "/Users/thomaseffland/.virtualenvs/rel/lib/python2.7/site-packages/IPython/core/formatters.py:669: DeprecationWarning: PlainTextFormatter._singleton_printers_default is deprecated: use @default decorator instead.\n",
      "  def _singleton_printers_default(self):\n"
     ]
    },
    {
     "data": {
      "text/plain": [
       "1461"
      ]
     },
     "execution_count": 14,
     "metadata": {},
     "output_type": "execute_result"
    }
   ],
   "source": [
    "len(dep_structures)"
   ]
  },
  {
   "cell_type": "code",
   "execution_count": 15,
   "metadata": {
    "collapsed": false
   },
   "outputs": [],
   "source": [
    "deps = sorted([s for s in dep_structures.items()], key=lambda x:x[1], reverse=True)"
   ]
  },
  {
   "cell_type": "code",
   "execution_count": 16,
   "metadata": {
    "collapsed": false
   },
   "outputs": [
    {
     "data": {
      "text/plain": [
       "[<matplotlib.lines.Line2D at 0x115e68910>]"
      ]
     },
     "execution_count": 16,
     "metadata": {},
     "output_type": "execute_result"
    },
    {
     "data": {
      "image/png": "[encoded data removed]",
      "text/plain": [
       "<matplotlib.figure.Figure at 0x112218b50>"
      ]
     },
     "metadata": {},
     "output_type": "display_data"
    }
   ],
   "source": [
    "plt.plot(range(len(deps)), [d[1] for d in deps])"
   ]
  },
  {
   "cell_type": "code",
   "execution_count": 17,
   "metadata": {
    "collapsed": false
   },
   "outputs": [
    {
     "data": {
      "text/plain": [
       "(0, 200)"
      ]
     },
     "execution_count": 17,
     "metadata": {},
     "output_type": "execute_result"
    },
    {
     "data": {
      "image/png": "[encoded data removed]",
      "text/plain": [
       "<matplotlib.figure.Figure at 0x115dd0a10>"
      ]
     },
     "metadata": {},
     "output_type": "display_data"
    }
   ],
   "source": [
    "plt.plot(range(len(deps)), [d[1] for d in deps])\n",
    "plt.xlim([0,200])"
   ]
  },
  {
   "cell_type": "markdown",
   "metadata": {},
   "source": [
    "# Wow that's a very thin tailed distribution"
   ]
  },
  {
   "cell_type": "code",
   "execution_count": 18,
   "metadata": {
    "collapsed": false
   },
   "outputs": [
    {
     "name": "stdout",
     "output_type": "stream",
     "text": [
      "0 : count 1059 : [u'nsubj', u'ROOT', u'prep', u'pobj']\n",
      "1 : count 953 : [u'nsubj', u'ROOT', u'dobj']\n",
      "2 : count 833 : [u'nsubjpass', u'ROOT', u'prep', u'pobj']\n",
      "3 : count 747 : [u'pobj', u'prep', u'pobj']\n",
      "4 : count 486 : [u'dobj', u'prep', u'pobj']\n",
      "5 : count 455 : [u'dobj', u'ROOT', u'prep', u'pobj']\n",
      "6 : count 379 : [u'nsubj', u'prep', u'pobj']\n",
      "7 : count 194 : [u'nsubjpass', u'ROOT', u'agent', u'pobj']\n",
      "8 : count 148 : [u'compound', u'pobj']\n",
      "9 : count 148 : [u'attr', u'prep', u'pobj']\n",
      "10 : count 125 : [u'nsubj', u'ROOT', u'dobj', u'prep', u'pobj']\n",
      "11 : count 122 : [u'compound', u'nsubj']\n",
      "12 : count 121 : [u'nsubj', u'ROOT', u'attr', u'prep', u'pobj']\n",
      "13 : count 110 : [u'pobj', u'acl', u'agent', u'pobj']\n",
      "14 : count 107 : [u'nsubjpass', u'prep', u'pobj']\n",
      "15 : count 98 : [u'compound', u'dobj']\n",
      "16 : count 79 : [u'conj', u'prep', u'pobj']\n",
      "17 : count 63 : [u'nsubj', u'acl', u'agent', u'pobj']\n",
      "18 : count 60 : [u'nsubj', u'ROOT', u'prep', u'pobj', u'prep', u'pobj']\n",
      "19 : count 57 : [u'dobj', u'acl', u'agent', u'pobj']\n",
      "20 : count 56 : [u'poss', u'pobj']\n",
      "21 : count 50 : [u'nsubjpass', u'ROOT', u'prep', u'pobj', u'compound']\n",
      "22 : count 50 : [u'nsubj', u'advcl', u'dobj']\n",
      "23 : count 50 : [u'nsubj', u'ROOT', u'prep', u'pobj', u'compound']\n",
      "24 : count 48 : [u'nsubj', u'advcl', u'prep', u'pobj']\n",
      "25 : count 45 : [u'nsubj', u'ccomp', u'prep', u'pobj']\n",
      "26 : count 42 : [u'pobj', u'prep', u'nsubj', u'ROOT', u'prep', u'pobj']\n",
      "27 : count 42 : [u'nsubj', u'ROOT', u'advmod', u'prep', u'pobj']\n",
      "28 : count 40 : [u'dobj', u'ROOT', u'prep', u'pobj', u'compound']\n",
      "29 : count 40 : [u'nsubj', u'ROOT', u'dobj', u'compound']\n",
      "30 : count 39 : [u'pobj', u'acl', u'prep', u'pobj']\n",
      "31 : count 37 : [u'appos', u'prep', u'pobj']\n",
      "32 : count 37 : [u'nsubj', u'ccomp', u'dobj']\n",
      "33 : count 35 : [u'poss', u'nsubj']\n",
      "34 : count 34 : [u'nsubj', u'ROOT', u'prep', u'pobj', u'amod']\n",
      "35 : count 33 : [u'pobj', u'relcl', u'prep', u'pobj']\n",
      "36 : count 33 : [u'nsubjpass', u'ROOT', u'prep', u'pobj', u'prep', u'pobj']\n",
      "37 : count 33 : [u'dobj', u'relcl', u'prep', u'pobj']\n",
      "38 : count 32 : [u'dobj', u'conj', u'prep', u'pobj']\n",
      "39 : count 32 : [u'dobj', u'acl', u'dobj']\n",
      "40 : count 30 : [u'nsubj', u'ROOT', u'advcl', u'dobj']\n",
      "41 : count 29 : [u'attr', u'acl', u'agent', u'pobj']\n",
      "42 : count 29 : [u'compound', u'nsubj', u'ROOT', u'prep', u'pobj']\n",
      "43 : count 29 : [u'compound', u'nsubjpass']\n",
      "44 : count 29 : [u'nsubj', u'ROOT', u'dobj', u'conj']\n",
      "45 : count 28 : [u'pobj', u'prep', u'pobj', u'prep', u'pobj']\n",
      "46 : count 27 : [u'nsubj', u'ROOT', u'dobj', u'amod']\n",
      "47 : count 27 : [u'dobj', u'xcomp', u'prep', u'pobj']\n",
      "48 : count 27 : [u'pobj', u'relcl', u'dobj']\n",
      "49 : count 27 : [u'nsubj', u'relcl', u'dobj']\n",
      "50 : count 27 : [u'pobj', u'prep', u'ROOT', u'prep', u'pobj']\n",
      "51 : count 27 : [u'dobj', u'ROOT', u'prep', u'pobj', u'amod']\n",
      "52 : count 27 : [u'dobj', u'prep', u'pobj', u'compound']\n",
      "53 : count 26 : [u'nsubj', u'ROOT', u'prep', u'prep', u'pobj']\n",
      "54 : count 26 : [u'dobj', u'acl', u'prep', u'pobj']\n",
      "55 : count 25 : [u'nsubjpass', u'ccomp', u'prep', u'pobj']\n",
      "56 : count 25 : [u'nsubj', u'conj', u'dobj']\n",
      "57 : count 25 : [u'nsubj', u'ROOT', u'prep', u'pcomp', u'dobj']\n",
      "58 : count 25 : [u'nsubj', u'ROOT', u'ccomp', u'nsubj']\n",
      "59 : count 25 : [u'pobj', u'prep', u'nsubj', u'ROOT', u'attr']\n",
      "60 : count 25 : [u'attr', u'acl', u'dobj']\n",
      "61 : count 25 : [u'pobj', u'prep', u'dobj', u'ROOT', u'prep', u'pobj']\n",
      "62 : count 24 : [u'dobj', u'advcl', u'prep', u'pobj']\n",
      "63 : count 24 : [u'compound', u'attr']\n",
      "64 : count 24 : [u'nsubj', u'ROOT', u'acomp', u'prep', u'pobj']\n",
      "65 : count 23 : [u'dobj', u'pcomp', u'prep', u'pobj']\n",
      "66 : count 22 : [u'nsubjpass', u'ROOT', u'prep', u'pobj', u'amod']\n",
      "67 : count 22 : [u'pobj', u'prep', u'nsubjpass', u'ROOT', u'prep', u'pobj']\n",
      "68 : count 22 : [u'attr', u'acl', u'prep', u'pobj']\n",
      "69 : count 21 : [u'nsubjpass', u'conj', u'prep', u'pobj']\n",
      "70 : count 21 : [u'pobj', u'acl', u'dobj']\n",
      "71 : count 21 : [u'nsubj', u'relcl', u'prep', u'pobj']\n",
      "72 : count 20 : [u'attr', u'relcl', u'dobj']\n",
      "73 : count 20 : [u'nsubj', u'acl', u'prep', u'pobj']\n",
      "74 : count 19 : [u'pobj', u'prep', u'pobj', u'compound']\n",
      "75 : count 19 : [u'compound', u'nsubjpass', u'ROOT', u'prep', u'pobj']\n",
      "76 : count 19 : [u'poss', u'dobj']\n",
      "77 : count 18 : [u'pobj', u'prep', u'nsubj', u'ROOT', u'dobj']\n",
      "78 : count 18 : [u'dobj', u'relcl', u'dobj']\n",
      "79 : count 17 : [u'nsubjpass', u'relcl', u'prep', u'pobj']\n",
      "80 : count 17 : [u'nsubj', u'conj', u'prep', u'pobj']\n",
      "81 : count 16 : [u'compound', u'nsubj', u'prep', u'pobj']\n",
      "82 : count 16 : [u'nsubj', u'ROOT', u'dobj', u'prep', u'pobj', u'prep', u'pobj']\n",
      "83 : count 15 : [u'dobj', u'amod', u'prep', u'pobj']\n",
      "84 : count 15 : [u'pobj', u'prep', u'dobj', u'prep', u'pobj']\n",
      "85 : count 15 : [u'compound', u'conj']\n",
      "86 : count 15 : [u'pobj', u'relcl', u'agent', u'pobj']\n",
      "87 : count 15 : [u'nsubjpass', u'advcl', u'prep', u'pobj']\n",
      "88 : count 15 : [u'amod', u'nsubj']\n",
      "89 : count 15 : [u'nsubj', u'ROOT', u'attr', u'prep', u'pobj', u'prep', u'pobj']\n",
      "90 : count 14 : [u'nsubjpass', u'ccomp', u'agent', u'pobj']\n",
      "91 : count 14 : [u'compound', u'nsubj', u'ROOT', u'dobj']\n",
      "92 : count 13 : [u'nsubj', u'prep', u'pobj', u'compound']\n",
      "93 : count 13 : [u'nsubjpass', u'acl', u'agent', u'pobj']\n",
      "94 : count 13 : [u'nsubjpass', u'ROOT', u'agent', u'pobj', u'amod']\n",
      "95 : count 12 : [u'dobj', u'ROOT', u'prep', u'pobj', u'prep', u'pobj']\n",
      "96 : count 12 : [u'nsubjpass', u'ROOT', u'dative', u'pobj']\n",
      "97 : count 12 : [u'ROOT', u'acl', u'prep', u'pobj']\n",
      "98 : count 12 : [u'ROOT', u'prep', u'pobj']\n",
      "99 : count 12 : [u'dobj', u'ROOT', u'dative', u'pobj']\n"
     ]
    }
   ],
   "source": [
    "for i, dep in enumerate(deps[:100]):\n",
    "    print(\"%i : count %i : %s\" % (i, dep[1], [DH.dep_at(p) for p in dep[0]]))"
   ]
  },
  {
   "cell_type": "markdown",
   "metadata": {},
   "source": [
    "## Do same for POS structures"
   ]
  },
  {
   "cell_type": "code",
   "execution_count": 19,
   "metadata": {
    "collapsed": false
   },
   "outputs": [],
   "source": [
    "pos_structures = {}\n",
    "for i, sdp in enumerate(all_sdps):\n",
    "    pos_structure = tuple([token[2] for token in sdp])\n",
    "    if pos_structure in pos_structures:\n",
    "        pos_structures[pos_structure] += 1\n",
    "    else:\n",
    "        pos_structures[pos_structure] = 1"
   ]
  },
  {
   "cell_type": "code",
   "execution_count": 20,
   "metadata": {
    "collapsed": false
   },
   "outputs": [
    {
     "data": {
      "text/plain": [
       "540"
      ]
     },
     "execution_count": 20,
     "metadata": {},
     "output_type": "execute_result"
    }
   ],
   "source": [
    "len(pos_structures)"
   ]
  },
  {
   "cell_type": "code",
   "execution_count": 21,
   "metadata": {
    "collapsed": true
   },
   "outputs": [],
   "source": [
    "poss = sorted([s for s in pos_structures.items()], key=lambda x:x[1], reverse=True)"
   ]
  },
  {
   "cell_type": "code",
   "execution_count": 22,
   "metadata": {
    "collapsed": false
   },
   "outputs": [
    {
     "data": {
      "text/plain": [
       "[<matplotlib.lines.Line2D at 0x112104c50>]"
      ]
     },
     "execution_count": 22,
     "metadata": {},
     "output_type": "execute_result"
    },
    {
     "data": {
      "image/png": "[encoded data removed]",
      "text/plain": [
       "<matplotlib.figure.Figure at 0x114ea2110>"
      ]
     },
     "metadata": {},
     "output_type": "display_data"
    }
   ],
   "source": [
    "plt.plot(range(len(poss)), [p[1] for p in poss])"
   ]
  },
  {
   "cell_type": "code",
   "execution_count": 23,
   "metadata": {
    "collapsed": false
   },
   "outputs": [
    {
     "data": {
      "text/plain": [
       "(0, 50)"
      ]
     },
     "execution_count": 23,
     "metadata": {},
     "output_type": "execute_result"
    },
    {
     "data": {
      "image/png": "[encoded data removed]",
      "text/plain": [
       "<matplotlib.figure.Figure at 0x115d9e250>"
      ]
     },
     "metadata": {},
     "output_type": "display_data"
    }
   ],
   "source": [
    "plt.plot(range(len(poss)), [p[1] for p in poss])\n",
    "plt.xlim([0,50])"
   ]
  },
  {
   "cell_type": "code",
   "execution_count": 24,
   "metadata": {
    "collapsed": false
   },
   "outputs": [
    {
     "name": "stdout",
     "output_type": "stream",
     "text": [
      "0 : count 3398 : [u'NOUN', u'VERB', u'ADP', u'NOUN']\n",
      "1 : count 1980 : [u'NOUN', u'ADP', u'NOUN']\n",
      "2 : count 1343 : [u'NOUN', u'VERB', u'NOUN']\n",
      "3 : count 618 : [u'NOUN', u'NOUN']\n",
      "4 : count 276 : [u'NOUN', u'VERB', u'NOUN', u'ADP', u'NOUN']\n",
      "5 : count 233 : [u'NOUN', u'VERB', u'ADP', u'NOUN', u'NOUN']\n",
      "6 : count 137 : [u'NOUN', u'VERB', u'VERB', u'NOUN']\n",
      "7 : count 134 : [u'NOUN', u'VERB', u'ADP', u'NOUN', u'ADP', u'NOUN']\n",
      "8 : count 112 : [u'NOUN', u'NOUN', u'VERB', u'ADP', u'NOUN']\n",
      "9 : count 108 : [u'NOUN', u'ADP', u'NOUN', u'VERB', u'ADP', u'NOUN']\n",
      "10 : count 106 : [u'NOUN', u'VERB', u'NOUN', u'NOUN']\n",
      "11 : count 103 : [u'NOUN', u'VERB', u'ADP', u'NOUN', u'ADJ']\n",
      "12 : count 97 : [u'NOUN', u'NOUN', u'ADP', u'NOUN']\n",
      "13 : count 87 : [u'NOUN', u'ADP', u'NOUN', u'ADP', u'NOUN']\n",
      "14 : count 86 : [u'NOUN', u'ADP', u'NOUN', u'NOUN']\n",
      "15 : count 85 : [u'NOUN', u'VERB', u'VERB', u'ADP', u'NOUN']\n",
      "16 : count 63 : [u'NOUN', u'VERB', u'ADV', u'ADP', u'NOUN']\n",
      "17 : count 56 : [u'NOUN', u'ADP', u'NOUN', u'VERB', u'NOUN']\n",
      "18 : count 54 : [u'NOUN', u'NOUN', u'VERB', u'NOUN']\n",
      "19 : count 54 : [u'NOUN', u'ADP', u'VERB', u'ADP', u'NOUN']\n",
      "20 : count 46 : [u'NOUN', u'VERB', u'ADP', u'VERB', u'NOUN']\n",
      "21 : count 42 : [u'NOUN', u'NOUN', u'NOUN']\n",
      "22 : count 40 : [u'NOUN', u'VERB', u'ADP', u'ADP', u'NOUN']\n",
      "23 : count 39 : [u'NOUN', u'ADJ', u'ADP', u'NOUN']\n",
      "24 : count 37 : [u'NOUN', u'ADP', u'VERB', u'NOUN']\n",
      "25 : count 36 : [u'ADJ', u'NOUN']\n",
      "26 : count 35 : [u'NOUN', u'VERB', u'NOUN', u'ADJ']\n",
      "27 : count 33 : [u'ADJ', u'NOUN', u'VERB', u'ADP', u'NOUN']\n",
      "28 : count 29 : [u'NOUN', u'VERB', u'ADP', u'VERB']\n",
      "29 : count 28 : [u'NOUN', u'VERB', u'NOUN', u'VERB', u'NOUN']\n",
      "30 : count 25 : [u'NOUN', u'VERB', u'ADJ', u'ADP', u'NOUN']\n",
      "31 : count 25 : [u'NOUN', u'NOUN', u'VERB', u'ADP', u'NOUN', u'NOUN']\n",
      "32 : count 24 : [u'NOUN', u'VERB', u'ADP', u'ADJ']\n",
      "33 : count 22 : [u'NOUN', u'VERB', u'NOUN', u'ADP', u'NOUN', u'ADP', u'NOUN']\n",
      "34 : count 22 : [u'VERB', u'ADP', u'NOUN']\n",
      "35 : count 19 : [u'ADJ', u'NOUN', u'ADP', u'NOUN']\n",
      "36 : count 18 : [u'NOUN', u'VERB', u'VERB']\n",
      "37 : count 15 : [u'NOUN', u'VERB', u'NOUN', u'ADP', u'NOUN', u'NOUN']\n",
      "38 : count 15 : [u'NOUN', u'ADP', u'VERB', u'VERB', u'NOUN']\n",
      "39 : count 15 : [u'NOUN', u'ADP', u'NOUN', u'ADJ']\n",
      "40 : count 15 : [u'NOUN', u'ADP', u'ADJ', u'VERB', u'ADP', u'NOUN']\n",
      "41 : count 14 : [u'NOUN', u'NOUN', u'VERB', u'ADP', u'NOUN', u'ADJ']\n",
      "42 : count 14 : [u'NOUN', u'ADP', u'NOUN', u'VERB', u'VERB', u'NOUN']\n",
      "43 : count 14 : [u'NOUN', u'VERB', u'NOUN', u'ADP', u'NOUN', u'ADJ']\n",
      "44 : count 12 : [u'NOUN', u'VERB', u'NOUN', u'NOUN', u'NOUN']\n",
      "45 : count 12 : [u'NOUN', u'VERB', u'ADV', u'NOUN']\n",
      "46 : count 12 : [u'NOUN', u'VERB', u'ADJ', u'NOUN']\n",
      "47 : count 12 : [u'NOUN', u'VERB', u'NOUN', u'VERB', u'ADP', u'NOUN']\n",
      "48 : count 11 : [u'NOUN', u'VERB', u'VERB', u'NOUN', u'ADP', u'NOUN']\n",
      "49 : count 11 : [u'NOUN', u'VERB', u'VERB', u'NOUN', u'NOUN']\n",
      "50 : count 11 : [u'NOUN', u'VERB', u'NUM', u'ADP', u'NOUN', u'ADP', u'NOUN']\n",
      "51 : count 11 : [u'NOUN', u'NOUN', u'VERB', u'NOUN', u'ADP', u'NOUN']\n",
      "52 : count 9 : [u'NOUN', u'VERB', u'ADP', u'VERB', u'ADP', u'NOUN']\n",
      "53 : count 9 : [u'NOUN', u'ADP', u'NUM', u'VERB', u'ADP', u'NOUN']\n",
      "54 : count 9 : [u'NOUN', u'VERB', u'ADP', u'NOUN', u'VERB']\n",
      "55 : count 9 : [u'ADJ', u'ADP', u'NOUN']\n",
      "56 : count 9 : [u'ADJ', u'VERB', u'NOUN']\n",
      "57 : count 8 : [u'NOUN', u'ADP', u'DET', u'VERB', u'ADP', u'NOUN']\n",
      "58 : count 8 : [u'NOUN', u'ADP', u'NOUN', u'VERB', u'VERB', u'ADP', u'NOUN']\n",
      "59 : count 8 : [u'NOUN', u'ADP', u'NOUN', u'ADP', u'NOUN', u'NOUN']\n",
      "60 : count 8 : [u'NOUN', u'VERB', u'ADP', u'NOUN', u'NOUN', u'NOUN']\n",
      "61 : count 8 : [u'NOUN', u'ADP', u'NOUN', u'VERB', u'ADP', u'NOUN', u'NOUN']\n",
      "62 : count 8 : [u'ADJ', u'VERB', u'ADP', u'NOUN']\n",
      "63 : count 8 : [u'NOUN', u'VERB', u'ADP', u'NOUN', u'ADP', u'NOUN', u'NOUN']\n",
      "64 : count 7 : [u'VERB', u'NOUN']\n",
      "65 : count 7 : [u'VERB', u'VERB', u'NOUN']\n",
      "66 : count 7 : [u'NOUN', u'ADP', u'VERB']\n",
      "67 : count 7 : [u'ADJ', u'NOUN', u'VERB', u'ADP', u'NOUN', u'NOUN']\n",
      "68 : count 7 : [u'NOUN', u'NOUN', u'VERB', u'NOUN', u'NOUN']\n",
      "69 : count 7 : [u'NOUN', u'VERB', u'ADP', u'NOUN', u'VERB', u'NOUN']\n",
      "70 : count 6 : [u'NOUN', u'NOUN', u'NOUN', u'VERB', u'ADP', u'NOUN']\n",
      "71 : count 6 : [u'NOUN', u'ADV', u'ADP', u'NOUN']\n",
      "72 : count 6 : [u'NOUN', u'ADP', u'ADP', u'NOUN']\n",
      "73 : count 6 : [u'NOUN', u'NOUN', u'ADP', u'NOUN', u'NOUN']\n",
      "74 : count 6 : [u'NOUN', u'ADP', u'VERB', u'VERB', u'ADP', u'NOUN']\n",
      "75 : count 6 : [u'NOUN', u'ADP', u'NOUN', u'VERB', u'NOUN', u'NOUN']\n",
      "76 : count 6 : [u'NOUN', u'VERB', u'VERB', u'ADP', u'NOUN', u'NOUN']\n",
      "77 : count 6 : [u'NOUN', u'NOUN', u'NOUN', u'VERB', u'NOUN']\n",
      "78 : count 6 : [u'NOUN', u'VERB', u'NOUN', u'ADP', u'VERB', u'NOUN']\n",
      "79 : count 5 : [u'NOUN', u'VERB', u'VERB', u'ADP', u'NOUN', u'ADJ']\n",
      "80 : count 5 : [u'DET', u'NOUN', u'NOUN']\n",
      "81 : count 5 : [u'NOUN', u'ADP', u'ADV', u'VERB', u'NOUN']\n",
      "82 : count 5 : [u'NOUN', u'VERB', u'NOUN', u'VERB', u'ADP', u'VERB', u'NOUN']\n",
      "83 : count 5 : [u'DET', u'NOUN', u'ADP']\n",
      "84 : count 5 : [u'VERB', u'VERB', u'ADP', u'NOUN']\n",
      "85 : count 5 : [u'NOUN', u'VERB', u'VERB', u'NOUN', u'ADJ']\n",
      "86 : count 5 : [u'NOUN', u'VERB', u'VERB', u'VERB', u'ADP', u'NOUN']\n",
      "87 : count 5 : [u'NOUN', u'VERB', u'ADP', u'NOUN', u'ADP', u'NOUN', u'ADJ']\n",
      "88 : count 4 : [u'NOUN', u'ADP', u'VERB', u'NOUN', u'ADP', u'NOUN']\n",
      "89 : count 4 : [u'NOUN', u'NOUN', u'NOUN', u'ADP', u'NOUN']\n",
      "90 : count 4 : [u'NOUN', u'NOUN', u'NOUN', u'NOUN']\n",
      "91 : count 4 : [u'NOUN', u'ADJ', u'ADP', u'NOUN', u'ADJ']\n",
      "92 : count 4 : [u'ADJ', u'NOUN', u'NOUN']\n",
      "93 : count 4 : [u'NOUN', u'VERB', u'PART', u'ADP', u'NOUN']\n",
      "94 : count 4 : [u'NOUN', u'VERB', u'ADP', u'NOUN', u'NOUN', u'ADJ']\n",
      "95 : count 4 : [u'NOUN', u'ADP', u'NOUN', u'VERB', u'NOUN', u'ADP', u'NOUN']\n",
      "96 : count 4 : [u'ADJ', u'NOUN', u'VERB', u'NUM', u'ADP', u'NOUN', u'ADP', u'NOUN']\n",
      "97 : count 4 : [u'NOUN', u'ADP', u'ADJ', u'VERB', u'NOUN']\n",
      "98 : count 4 : [u'NOUN', u'ADP', u'NOUN', u'VERB', u'ADP', u'NOUN', u'ADP', u'NOUN']\n",
      "99 : count 4 : [u'NOUN', u'ADP', u'ADV', u'NOUN']\n"
     ]
    }
   ],
   "source": [
    "for i, pos in enumerate(poss[:100]):\n",
    "    print(\"%i : count %i : %s\" % (i, pos[1], [DH.pos_at(p) for p in pos[0]]))"
   ]
  },
  {
   "cell_type": "code",
   "execution_count": 25,
   "metadata": {
    "collapsed": false
   },
   "outputs": [
    {
     "data": {
      "text/plain": [
       "[<matplotlib.lines.Line2D at 0x1121d0b90>]"
      ]
     },
     "execution_count": 25,
     "metadata": {},
     "output_type": "execute_result"
    },
    {
     "data": {
      "image/png": "[encoded data removed]",
      "text/plain": [
       "<matplotlib.figure.Figure at 0x115d98510>"
      ]
     },
     "metadata": {},
     "output_type": "display_data"
    }
   ],
   "source": [
    "# look at the cdf\n",
    "plt.plot(range(len(poss)), np.cumsum([p[1] for p in poss])/float(np.sum([p[1] for p in poss])))"
   ]
  },
  {
   "cell_type": "code",
   "execution_count": 27,
   "metadata": {
    "collapsed": false
   },
   "outputs": [
    {
     "data": {
      "text/plain": [
       "(array([  1.00000000e+00,   6.68000000e+02,   3.47000000e+03,\n",
       "          4.18200000e+03,   1.45300000e+03,   6.08000000e+02,\n",
       "          2.09000000e+02,   7.30000000e+01,   2.90000000e+01,\n",
       "          1.30000000e+01,   5.00000000e+00,   3.00000000e+00,\n",
       "          2.00000000e+00]),\n",
       " array([  1.        ,   1.92307692,   2.84615385,   3.76923077,\n",
       "          4.69230769,   5.61538462,   6.53846154,   7.46153846,\n",
       "          8.38461538,   9.30769231,  10.23076923,  11.15384615,\n",
       "         12.07692308,  13.        ]),\n",
       " <a list of 13 Patch objects>)"
      ]
     },
     "execution_count": 27,
     "metadata": {},
     "output_type": "execute_result"
    },
    {
     "data": {
      "image/png": "[encoded data removed]",
      "text/plain": [
       "<matplotlib.figure.Figure at 0x11201c0d0>"
      ]
     },
     "metadata": {},
     "output_type": "display_data"
    }
   ],
   "source": [
    "# lets look at them by path length\n",
    "lengths = [len(p) for p in all_sdps]\n",
    "plt.hist(lengths, bins=len(set(lengths)))"
   ]
  },
  {
   "cell_type": "markdown",
   "metadata": {},
   "source": [
    "## So we have less POS structures than DEP structures\n",
    "\n",
    "For POS structures, we have the top 250 structures covering over 95% of the total mass\n",
    "\n",
    "So let's use this list of structures as the set of acceptable structures for wikipedia training\n",
    "\n",
    "Take these top 250 and write them to file, then load them in `ok_sdp` in wiki2sdp"
   ]
  },
  {
   "cell_type": "code",
   "execution_count": 28,
   "metadata": {
    "collapsed": false
   },
   "outputs": [],
   "source": [
    "top_structures = [tuple([DH.pos_at(p) for p in pos[0]]) for pos in poss] # as tokens eg, 'NOUN'\n",
    "# top_structures = [pos[0] for pos in poss[:400]] # as PO vocab indices\n",
    "with open('sdp_pos_structures.py', 'w') as f:\n",
    "    f.write('ok_pos_structures = set(%r)' % top_structures[:200])"
   ]
  },
  {
   "cell_type": "code",
   "execution_count": 29,
   "metadata": {
    "collapsed": false
   },
   "outputs": [
    {
     "name": "stdout",
     "output_type": "stream",
     "text": [
      "ok_pos_structures = set([(u'NOUN', u'VERB', u'ADP', u'NOUN'), (u'NOUN', u'ADP', u'NOUN'), (u'NOUN', u'VERB', u'NOUN'), (u'NOUN', u'NOUN'), (u'NOUN', u'VERB', u'NOUN', u'ADP', u'NOUN'), (u'NOUN', u'VERB', u'ADP', u'NOUN', u'NOUN'), (u'NOUN', u'VERB', u'VERB', u'NOUN'), (u'NOUN', u'VERB', u'ADP', u'NOUN', u'ADP', u'NOUN'), (u'NOUN', u'NOUN', u'VERB', u'ADP', u'NOUN'), (u'NOUN', u'ADP', u'NOUN', u'VERB', u'ADP', u'NOUN'), (u'NOUN', u'VERB', u'NOUN', u'NOUN'), (u'NOUN', u'VERB', u'ADP', u'NOUN', u'ADJ'), (u'NOUN', u'NOUN', u'ADP', u'NOUN'), (u'NOUN', u'ADP', u'NOUN', u'ADP', u'NOUN'), (u'NOUN', u'ADP', u'NOUN', u'NOUN'), (u'NOUN', u'VERB', u'VERB', u'ADP', u'NOUN'), (u'NOUN', u'VERB', u'ADV', u'ADP', u'NOUN'), (u'NOUN', u'ADP', u'NOUN', u'VERB', u'NOUN'), (u'NOUN', u'NOUN', u'VERB', u'NOUN'), (u'NOUN', u'ADP', u'VERB', u'ADP', u'NOUN'), (u'NOUN', u'VERB', u'ADP', u'VERB', u'NOUN'), (u'NOUN', u'NOUN', u'NOUN'), (u'NOUN', u'VERB', u'ADP', u'ADP', u'NOUN'), (u'NOUN', u'ADJ', u'ADP', u'NOUN'), (u'NOUN', u'ADP', u'VERB', u'NOUN'), (u'ADJ', u'NOUN'), (u'NOUN', u'VERB', u'NOUN', u'ADJ'), (u'ADJ', u'NOUN', u'VERB', u'ADP', u'NOUN'), (u'NOUN', u'VERB', u'ADP', u'VERB'), (u'NOUN', u'VERB', u'NOUN', u'VERB', u'NOUN'), (u'NOUN', u'VERB', u'ADJ', u'ADP', u'NOUN'), (u'NOUN', u'NOUN', u'VERB', u'ADP', u'NOUN', u'NOUN'), (u'NOUN', u'VERB', u'ADP', u'ADJ'), (u'NOUN', u'VERB', u'NOUN', u'ADP', u'NOUN', u'ADP', u'NOUN'), (u'VERB', u'ADP', u'NOUN'), (u'ADJ', u'NOUN', u'ADP', u'NOUN'), (u'NOUN', u'VERB', u'VERB'), (u'NOUN', u'VERB', u'NOUN', u'ADP', u'NOUN', u'NOUN'), (u'NOUN', u'ADP', u'VERB', u'VERB', u'NOUN'), (u'NOUN', u'ADP', u'NOUN', u'ADJ'), (u'NOUN', u'ADP', u'ADJ', u'VERB', u'ADP', u'NOUN'), (u'NOUN', u'NOUN', u'VERB', u'ADP', u'NOUN', u'ADJ'), (u'NOUN', u'ADP', u'NOUN', u'VERB', u'VERB', u'NOUN'), (u'NOUN', u'VERB', u'NOUN', u'ADP', u'NOUN', u'ADJ'), (u'NOUN', u'VERB', u'NOUN', u'NOUN', u'NOUN'), (u'NOUN', u'VERB', u'ADV', u'NOUN'), (u'NOUN', u'VERB', u'ADJ', u'NOUN'), (u'NOUN', u'VERB', u'NOUN', u'VERB', u'ADP', u'NOUN'), (u'NOUN', u'VERB', u'VERB', u'NOUN', u'ADP', u'NOUN'), (u'NOUN', u'VERB', u'VERB', u'NOUN', u'NOUN'), (u'NOUN', u'VERB', u'NUM', u'ADP', u'NOUN', u'ADP', u'NOUN'), (u'NOUN', u'NOUN', u'VERB', u'NOUN', u'ADP', u'NOUN'), (u'NOUN', u'VERB', u'ADP', u'VERB', u'ADP', u'NOUN'), (u'NOUN', u'ADP', u'NUM', u'VERB', u'ADP', u'NOUN'), (u'NOUN', u'VERB', u'ADP', u'NOUN', u'VERB'), (u'ADJ', u'ADP', u'NOUN'), (u'ADJ', u'VERB', u'NOUN'), (u'NOUN', u'ADP', u'DET', u'VERB', u'ADP', u'NOUN'), (u'NOUN', u'ADP', u'NOUN', u'VERB', u'VERB', u'ADP', u'NOUN'), (u'NOUN', u'ADP', u'NOUN', u'ADP', u'NOUN', u'NOUN'), (u'NOUN', u'VERB', u'ADP', u'NOUN', u'NOUN', u'NOUN'), (u'NOUN', u'ADP', u'NOUN', u'VERB', u'ADP', u'NOUN', u'NOUN'), (u'ADJ', u'VERB', u'ADP', u'NOUN'), (u'NOUN', u'VERB', u'ADP', u'NOUN', u'ADP', u'NOUN', u'NOUN'), (u'VERB', u'NOUN'), (u'VERB', u'VERB', u'NOUN'), (u'NOUN', u'ADP', u'VERB'), (u'ADJ', u'NOUN', u'VERB', u'ADP', u'NOUN', u'NOUN'), (u'NOUN', u'NOUN', u'VERB', u'NOUN', u'NOUN'), (u'NOUN', u'VERB', u'ADP', u'NOUN', u'VERB', u'NOUN'), (u'NOUN', u'NOUN', u'NOUN', u'VERB', u'ADP', u'NOUN'), (u'NOUN', u'ADV', u'ADP', u'NOUN'), (u'NOUN', u'ADP', u'ADP', u'NOUN'), (u'NOUN', u'NOUN', u'ADP', u'NOUN', u'NOUN'), (u'NOUN', u'ADP', u'VERB', u'VERB', u'ADP', u'NOUN'), (u'NOUN', u'ADP', u'NOUN', u'VERB', u'NOUN', u'NOUN'), (u'NOUN', u'VERB', u'VERB', u'ADP', u'NOUN', u'NOUN'), (u'NOUN', u'NOUN', u'NOUN', u'VERB', u'NOUN'), (u'NOUN', u'VERB', u'NOUN', u'ADP', u'VERB', u'NOUN'), (u'NOUN', u'VERB', u'VERB', u'ADP', u'NOUN', u'ADJ'), (u'DET', u'NOUN', u'NOUN'), (u'NOUN', u'ADP', u'ADV', u'VERB', u'NOUN'), (u'NOUN', u'VERB', u'NOUN', u'VERB', u'ADP', u'VERB', u'NOUN'), (u'DET', u'NOUN', u'ADP'), (u'VERB', u'VERB', u'ADP', u'NOUN'), (u'NOUN', u'VERB', u'VERB', u'NOUN', u'ADJ'), (u'NOUN', u'VERB', u'VERB', u'VERB', u'ADP', u'NOUN'), (u'NOUN', u'VERB', u'ADP', u'NOUN', u'ADP', u'NOUN', u'ADJ'), (u'NOUN', u'ADP', u'VERB', u'NOUN', u'ADP', u'NOUN'), (u'NOUN', u'NOUN', u'NOUN', u'ADP', u'NOUN'), (u'NOUN', u'NOUN', u'NOUN', u'NOUN'), (u'NOUN', u'ADJ', u'ADP', u'NOUN', u'ADJ'), (u'ADJ', u'NOUN', u'NOUN'), (u'NOUN', u'VERB', u'PART', u'ADP', u'NOUN'), (u'NOUN', u'VERB', u'ADP', u'NOUN', u'NOUN', u'ADJ'), (u'NOUN', u'ADP', u'NOUN', u'VERB', u'NOUN', u'ADP', u'NOUN'), (u'ADJ', u'NOUN', u'VERB', u'NUM', u'ADP', u'NOUN', u'ADP', u'NOUN'), (u'NOUN', u'ADP', u'ADJ', u'VERB', u'NOUN'), (u'NOUN', u'ADP', u'NOUN', u'VERB', u'ADP', u'NOUN', u'ADP', u'NOUN'), (u'NOUN', u'ADP', u'ADV', u'NOUN'), (u'NOUN', u'ADP', u'DET', u'VERB', u'NOUN'), (u'NOUN', u'VERB', u'NOUN', u'VERB'), (u'NOUN', u'ADP', u'NOUN', u'ADP', u'VERB', u'NOUN'), (u'NOUN', u'VERB'), (u'NOUN', u'ADP', u'NOUN', u'VERB', u'ADP', u'NOUN', u'ADJ'), (u'NOUN', u'ADP', u'NOUN', u'ADP', u'VERB', u'ADP', u'NOUN'), (u'NOUN', u'ADP', u'VERB', u'ADP', u'NOUN', u'ADP', u'NOUN'), (u'ADJ', u'NOUN', u'VERB', u'NOUN', u'ADP', u'NOUN'), (u'NOUN', u'NOUN', u'VERB'), (u'NOUN', u'NOUN', u'ADP', u'NOUN', u'ADP', u'NOUN'), (u'NOUN', u'ADP', u'NUM', u'VERB', u'NOUN'), (u'NOUN', u'NOUN', u'VERB', u'NOUN', u'ADJ'), (u'NUM', u'VERB', u'ADP', u'NOUN'), (u'NOUN', u'VERB', u'ADP', u'VERB', u'NOUN', u'NOUN'), (u'NOUN', u'ADP', u'ADJ', u'VERB', u'ADP', u'NOUN', u'NOUN'), (u'NOUN', u'ADP', u'NUM', u'ADP', u'NOUN'), (u'NOUN', u'ADP', u'NOUN', u'NOUN', u'NOUN'), (u'NOUN', u'VERB', u'VERB', u'VERB', u'NOUN'), (u'NOUN', u'ADP', u'VERB', u'ADP', u'NOUN', u'NOUN'), (u'ADJ', u'NOUN', u'VERB', u'NOUN'), (u'NOUN', u'NOUN', u'VERB', u'VERB', u'NOUN'), (u'ADJ', u'NOUN', u'ADP', u'NOUN', u'ADJ'), (u'ADJ', u'NOUN', u'VERB', u'NOUN', u'NOUN'), (u'ADJ', u'NOUN', u'ADP', u'NOUN', u'VERB', u'ADP', u'NOUN'), (u'NOUN', u'ADP', u'NOUN', u'VERB', u'ADP', u'ADP', u'NOUN'), (u'NOUN', u'NOUN', u'ADP', u'NOUN', u'ADJ'), (u'NOUN', u'ADJ', u'ADP', u'NOUN', u'NOUN'), (u'NOUN', u'ADP', u'NOUN', u'ADP', u'NOUN', u'VERB', u'NOUN'), (u'NOUN', u'VERB', u'ADJ'), (u'NOUN', u'VERB', u'ADP', u'NUM', u'ADP', u'NOUN'), (u'NOUN', u'ADP', u'NOUN', u'ADP', u'NOUN', u'VERB', u'ADP', u'NOUN'), (u'VERB', u'ADP', u'NOUN', u'ADP', u'NOUN'), (u'NOUN', u'NOUN', u'ADP', u'VERB', u'NOUN'), (u'NOUN', u'VERB', u'NOUN', u'VERB', u'NOUN', u'NOUN'), (u'NOUN', u'VERB', u'ADJ', u'VERB', u'ADP', u'NOUN'), (u'NOUN', u'VERB', u'VERB', u'ADP', u'ADJ'), (u'NOUN', u'VERB', u'VERB', u'ADP', u'NOUN', u'ADP', u'NOUN'), (u'NOUN', u'NOUN', u'VERB', u'VERB', u'ADP', u'NOUN', u'ADP', u'NOUN'), (u'ADJ', u'VERB', u'NOUN', u'ADP', u'NOUN'), (u'NOUN', u'VERB', u'NOUN', u'ADJ', u'ADP', u'NOUN'), (u'NOUN', u'VERB', u'NOUN', u'ADP'), (u'ADJ', u'ADJ', u'VERB', u'NOUN'), (u'NOUN', u'NOUN', u'VERB', u'VERB', u'NUM', u'ADP', u'NOUN', u'ADP', u'NOUN'), (u'NOUN', u'ADP', u'NOUN', u'NOUN', u'ADJ'), (u'NOUN', u'VERB', u'NOUN', u'ADP', u'ADP', u'NOUN'), (u'NOUN', u'NOUN', u'VERB', u'VERB', u'ADP', u'NOUN'), (u'NOUN', u'NOUN', u'VERB', u'ADP', u'VERB'), (u'NOUN', u'VERB', u'VERB', u'ADV', u'ADP', u'NOUN'), (u'NOUN', u'VERB', u'ADP', u'NOUN', u'VERB', u'ADP', u'NOUN'), (u'NOUN', u'ADP', u'NOUN', u'ADP', u'NOUN', u'VERB', u'ADP', u'NOUN', u'NOUN'), (u'NOUN', u'ADP', u'NOUN', u'VERB', u'VERB', u'NOUN', u'ADJ'), (u'NOUN', u'VERB', u'ADJ', u'ADP', u'NOUN', u'ADJ'), (u'NOUN', u'VERB', u'ADJ', u'ADP', u'NOUN', u'ADP', u'NOUN'), (u'NOUN', u'NOUN', u'ADP', u'NOUN', u'VERB', u'VERB', u'NOUN'), (u'NOUN', u'ADP', u'NOUN', u'NOUN', u'ADP', u'NOUN'), (u'NOUN', u'ADP', u'NOUN', u'VERB', u'ADP', u'NOUN', u'ADP', u'NOUN', u'NOUN'), (u'NOUN', u'NOUN', u'NOUN', u'ADP', u'NOUN', u'NOUN'), (u'NOUN', u'VERB', u'NOUN', u'ADP', u'NOUN', u'NOUN', u'NOUN'), (u'NOUN', u'VERB', u'NOUN', u'VERB', u'ADJ', u'ADP', u'NOUN'), (u'NOUN', u'PART', u'VERB', u'ADP', u'NOUN'), (u'NOUN', u'NOUN', u'ADP', u'NOUN', u'VERB', u'ADP', u'NOUN'), (u'ADJ', u'NOUN', u'NOUN', u'ADP', u'NOUN'), (u'NOUN', u'NOUN', u'ADP', u'NOUN', u'ADP', u'NOUN', u'NOUN'), (u'NOUN', u'ADP', u'NOUN', u'ADP', u'NOUN', u'ADJ'), (u'DET', u'NOUN', u'ADJ', u'ADP'), (u'NOUN', u'VERB', u'NOUN', u'VERB', u'ADP', u'NOUN', u'NOUN'), (u'NOUN', u'NOUN', u'ADJ', u'ADP', u'NOUN'), (u'VERB', u'ADP'), (u'NOUN', u'VERB', u'DET', u'VERB', u'ADP', u'NOUN'), (u'NOUN', u'VERB', u'VERB', u'VERB'), (u'NOUN', u'NOUN', u'VERB', u'ADP', u'NOUN', u'NOUN', u'NOUN'), (u'DET', u'NOUN', u'ADP', u'NOUN', u'ADJ'), (u'NOUN', u'VERB', u'NOUN', u'NOUN', u'NOUN', u'NOUN'), (u'NOUN', u'VERB', u'ADP', u'NUM', u'ADP', u'NOUN', u'ADP', u'NOUN'), (u'VERB', u'VERB', u'NOUN', u'ADP', u'NOUN'), (u'NOUN', u'ADP', u'ADJ', u'ADP', u'NOUN'), (u'NOUN', u'NOUN', u'ADP'), (u'NOUN', u'ADP', u'NOUN', u'VERB', u'ADJ'), (u'VERB', u'NOUN', u'VERB', u'ADP', u'NOUN'), (u'DET', u'NOUN', u'VERB', u'ADP', u'NOUN', u'DET'), (u'ADJ', u'NOUN', u'VERB', u'ADP', u'NOUN', u'ADJ'), (u'NOUN', u'VERB', u'ADP', u'VERB', u'NOUN', u'ADP', u'NOUN'), (u'NOUN', u'ADP', u'VERB', u'NOUN', u'NOUN'), (u'NOUN', u'NOUN', u'ADP', u'VERB', u'ADP', u'NOUN'), (u'NOUN', u'VERB', u'ADP', u'NOUN', u'NOUN', u'NOUN', u'NOUN'), (u'NOUN', u'VERB', u'NOUN', u'ADP', u'NOUN', u'VERB', u'ADP', u'NOUN'), (u'ADV', u'VERB', u'ADP', u'NOUN'), (u'NOUN', u'ADP', u'NOUN', u'VERB', u'ADP', u'VERB', u'NOUN'), (u'NOUN', u'VERB', u'ADJ', u'VERB', u'ADP', u'VERB', u'NOUN'), (u'NOUN', u'VERB', u'VERB', u'ADP', u'ADP', u'NOUN'), (u'NOUN', u'VERB', u'PART', u'NOUN'), (u'NOUN', u'VERB', u'NOUN', u'ADP', u'NOUN', u'ADP', u'NOUN', u'ADP', u'NOUN'), (u'NOUN', u'VERB', u'ADP', u'ADJ', u'ADP', u'NOUN'), (u'NOUN', u'ADP', u'NOUN', u'ADP', u'NOUN', u'ADP', u'NOUN'), (u'NOUN', u'NOUN', u'VERB', u'ADP', u'ADJ'), (u'NOUN', u'ADP', u'NOUN', u'VERB', u'ADP', u'VERB'), (u'NOUN', u'ADP', u'VERB', u'NOUN', u'ADJ'), (u'NOUN', u'VERB', u'VERB', u'ADP', u'VERB', u'NOUN'), (u'NOUN', u'ADP', u'ADJ', u'VERB', u'VERB', u'ADP', u'NOUN'), (u'NOUN', u'VERB', u'ADJ', u'ADP', u'VERB', u'NOUN')])"
     ]
    }
   ],
   "source": [
    "cat sdp_pos_structures.py"
   ]
  },
  {
   "cell_type": "code",
   "execution_count": 96,
   "metadata": {
    "collapsed": false
   },
   "outputs": [
    {
     "data": {
      "text/plain": [
       "[u'NOUN', u'DET', u'VERB', u'NOUN']"
      ]
     },
     "execution_count": 96,
     "metadata": {},
     "output_type": "execute_result"
    }
   ],
   "source": [
    "[DH.pos_at(a) for a in (0,2,1,0)]"
   ]
  },
  {
   "cell_type": "code",
   "execution_count": null,
   "metadata": {
    "collapsed": true
   },
   "outputs": [],
   "source": []
  }
 ],
 "metadata": {
  "kernelspec": {
   "display_name": "Python 2",
   "language": "python",
   "name": "python2"
  },
  "language_info": {
   "codemirror_mode": {
    "name": "ipython",
    "version": 2
   },
   "file_extension": ".py",
   "mimetype": "text/x-python",
   "name": "python",
   "nbconvert_exporter": "python",
   "pygments_lexer": "ipython2",
   "version": "2.7.10"
  }
 },
 "nbformat": 4,
 "nbformat_minor": 0
}

{
 "cells": [
  {
   "cell_type": "markdown",
   "metadata": {},
   "source": [
    "# A class to handle the reading in of data and batch generation for models"
   ]
  },
  {
   "cell_type": "code",
   "execution_count": 80,
   "metadata": {
    "collapsed": true
   },
   "outputs": [],
   "source": [
    "from __future__ import print_function\n",
    "import json\n",
    "import numpy as np\n",
    "import random"
   ]
  },
  {
   "cell_type": "code",
   "execution_count": 76,
   "metadata": {
    "collapsed": false
   },
   "outputs": [],
   "source": [
    "class DataHandler(object):\n",
    "    \"\"\"Handler to read in data and generate data and batches for model training and evaluation\"\"\"\n",
    "    def __init__(self, data_prefix, max_sequence_len=None):\n",
    "        self._data_prefix = data_prefix\n",
    "        \n",
    "        self.read_data()\n",
    "        if max_sequence_len:\n",
    "            assert max_sequence_len >= self._max_seq_len, \"Cannot for sequence length shorter than the data yields\"\n",
    "            self._max_seq_len = max_sequence_len\n",
    "            \n",
    "    def read_data(self):\n",
    "        print(\"Creating Data objects...\")\n",
    "        # read in sdp data\n",
    "        data = []\n",
    "        with open(self._data_prefix, 'r') as f:\n",
    "            for line in f:\n",
    "                data.append(json.loads(line))\n",
    "        self._paths = [ datum['path'] for datum in data ]\n",
    "        self._max_seq_len = max([ len(path) for path in self._paths ])\n",
    "        self._targets = [ datum['target'][0] for datum in data] # targets get doubly wrapped in lists\n",
    "        \n",
    "        #make sure all of the paths have same depth and all the targets have depth 2\n",
    "#         print(self._paths)\n",
    "#         print([target for target in self._targets])\n",
    "        assert len(set(len(p) for path in self._paths for p in path)) == 1, \"Not all path tuples have same len\"\n",
    "        assert set(len(target) for target in self._targets) == set([2]), \"All target tuples must be pairs\"\n",
    "        \n",
    "        # read in vocab and distribution\n",
    "        vocab_and_dist = []\n",
    "        with open(self._data_prefix+\"_vocab\", 'r') as f:\n",
    "            for line in f:\n",
    "                vocab_and_dist.append(json.loads(line))\n",
    "        self._vocab = [x[0] for x in vocab_and_dist]\n",
    "        self._true_vocab_dist = [x[1] for x in vocab_and_dist]\n",
    "        self._vocab_dist = self._true_vocab_dist\n",
    "        self._vocab2int = {v:i for (i,v) in enumerate(self._vocab)}\n",
    "        self._int2vocab = {i:v for (v,i) in self._vocab2int.items()}\n",
    "        \n",
    "        # read in dependency vocab and distribution\n",
    "        dep_and_dist = []\n",
    "        with open(self._data_prefix+\"_dep\", 'r') as f:\n",
    "            for line in f:\n",
    "                dep_and_dist.append(json.loads(line))\n",
    "        self._dep_vocab = [x[0] for x in dep_and_dist]\n",
    "        self._true_dep_dist = [x[1] for x in dep_and_dist]\n",
    "        self._dep_dist = self._true_dep_dist\n",
    "        self._dep2int = {v:i for (i,v) in enumerate(self._dep_vocab)}\n",
    "        self._int2dep = {i:v for (v,i) in self._dep2int.items()}\n",
    "        print(\"Done creating Data objects\")\n",
    "    \n",
    "    def _sequences_to_tensor(self, list_of_lists):\n",
    "        \"\"\" Convert list of lists of either single elements or tuples into matrix of appropriate dim\"\"\"\n",
    "        lengths = np.array([len(list_) for list_ in list_of_lists]).reshape([-1, 1])\n",
    "        \n",
    "        #matrix case\n",
    "        if isinstance(list_of_lists[0][0], (int, float)):\n",
    "            matrix = np.zeros([len(list_of_lists), self._max_seq_len])\n",
    "            for i, list_ in enumerate(list_of_lists):\n",
    "                matrix[i, :len(list_)] = list_\n",
    "            return matrix, lengths\n",
    "        \n",
    "        #tensor case\n",
    "        if isinstance(list_of_lists[0][0], (tuple, list)):\n",
    "            k = len(list_of_lists[0][0]) # we asserted before that all of them were the same len\n",
    "            tensor = np.zeros([len(list_of_lists), self._max_seq_len, k])\n",
    "            for i, list_ in enumerate(list_of_lists):\n",
    "                for j in range(k):\n",
    "                    tensor[i, :len(list_), j] = [ x[j] for x in list_ ]\n",
    "            return tensor, lengths\n",
    "    \n",
    "    def _generate_batch(self, offset, batch_size, neg_per=None):\n",
    "        \"\"\"Expects the data as list of lists of indices\n",
    "\n",
    "        Converts them to matrices of indices, lang model labels, and lengths\"\"\"\n",
    "        start = offset*batch_size\n",
    "        end = start + batch_size\n",
    "        if end > len(self._paths):\n",
    "            end = len(self._paths)\n",
    "#             print(\"Not full batch\")\n",
    "        inputs = self._paths[start:end]\n",
    "        targets = np.array(self._targets[start:end])\n",
    "        print(targets.shape)\n",
    "        labels = np.ones(targets.shape[0]).reshape((-1, 1))\n",
    "        input_mat, len_vec = self._sequences_to_tensor(inputs)\n",
    "        # generate the negative samples\n",
    "        # randomly choose one index for each negative sample \n",
    "        # TODO: option to replace more than one phrase element\n",
    "        # and replace that with a random word drawn from the scaled unigram distribution\n",
    "        if neg_per:\n",
    "            negatives = []\n",
    "            neg_targets = []\n",
    "            for i, seq in enumerate(inputs):\n",
    "                for neg in range(neg_per):\n",
    "                    rand_idx = int(random.uniform(0, len(seq)))\n",
    "                    sample = self._sample_distribution(self._vocab_dist)\n",
    "#                     print(rand_idx)\n",
    "                    neg_seq = seq[:]\n",
    "#                     print(neg_seq)\n",
    "                    neg_seq[rand_idx][0] = sample\n",
    "                    negatives.append(neg_seq)\n",
    "                    neg_targets.append(targets[i])\n",
    "            neg_mat, neg_len = self._sequences_to_tensor(negatives)\n",
    "            neg_labels = np.zeros_like(neg_len)\n",
    "            print(labels.shape, neg_labels.shape)\n",
    "            all_inputs = np.vstack((input_mat, neg_mat)).astype(np.int32)\n",
    "            all_targets = np.vstack((targets, np.array(neg_targets))).astype(np.int32)\n",
    "            all_labels = np.vstack((labels, neg_labels)).astype(np.int32)\n",
    "            all_lengths = np.vstack((len_vec, neg_len)).astype(np.int32)\n",
    "        else:\n",
    "            all_inputs = input_mat.astype(np.int32)\n",
    "            all_targets = targets.astype(np.int32)\n",
    "            all_labels = labels.astype(np.int32)\n",
    "            all_lengths = len_vec.astype(np.int32)\n",
    "        return all_inputs, all_targets, all_labels, all_lengths\n",
    "    \n",
    "    def batches(self, batch_size, neg_per=5, offset=0):\n",
    "        num_steps = len(self._paths) // batch_size\n",
    "        for step in range(offset, num_steps):\n",
    "            yield self._generate_batch(step, batch_size, neg_per=neg_per)\n",
    "    \n",
    "    def scale_vocab_dist(self, power):\n",
    "        self._vocab_dist = self._distribution_to_power(self._true_vocab_dist, power)\n",
    "        \n",
    "    def scale_dep_dist(self, power):\n",
    "        self._dep_dist = self._distribution_to_power(self._true_dep_dist, power)\n",
    "        \n",
    "    def _distribution_to_power(self, distribution, power):\n",
    "        \"\"\"Return a distribution, scaled to some power\"\"\"\n",
    "        dist = [ pow(d, power) for d in distribution ]\n",
    "        dist /= np.sum(dist)\n",
    "        return dist\n",
    "    \n",
    "    def _sample_distribution(self, distribution):\n",
    "        \"\"\"Sample one element from a distribution assumed to be an array of normalized\n",
    "        probabilities.\n",
    "        \"\"\"\n",
    "        r = random.uniform(0, 1)\n",
    "        s = 0\n",
    "        for i in range(len(distribution)):\n",
    "            s += distribution[i]\n",
    "            if s >= r:\n",
    "                return i\n",
    "        return len(distribution) - 1\n",
    "    \n",
    "    @property\n",
    "    def data_prefix(self):\n",
    "        return self._data_prefix\n",
    "    \n",
    "    @property\n",
    "    def vocab(self):\n",
    "        return self._vocab\n",
    "    \n",
    "    @property\n",
    "    def dep_vocab(self):\n",
    "        return self._dep_vocab"
   ]
  },
  {
   "cell_type": "code",
   "execution_count": 77,
   "metadata": {
    "collapsed": false
   },
   "outputs": [
    {
     "name": "stdout",
     "output_type": "stream",
     "text": [
      "Creating Data objects...\n",
      "Done creating Data objects\n"
     ]
    }
   ],
   "source": [
    "data_handler = DataHandler('data/wiki_sdp_100')"
   ]
  },
  {
   "cell_type": "code",
   "execution_count": 100,
   "metadata": {
    "collapsed": false
   },
   "outputs": [
    {
     "name": "stdout",
     "output_type": "stream",
     "text": [
      "[  2.11760549e-01   1.54333178e-01   1.25144722e-01   8.95462737e-02\n",
      "   7.01739473e-02   6.25782425e-02   4.03236025e-02   3.28540053e-02\n",
      "   1.75573183e-02   1.38039791e-02   9.55699360e-03   8.77174342e-03\n",
      "   8.77174342e-03   7.27025136e-03   7.27025136e-03   6.55548142e-03\n",
      "   6.55548142e-03   5.86580425e-03   5.20216840e-03   5.20216840e-03\n",
      "   5.20216840e-03   5.20216840e-03   4.56563896e-03   3.95742358e-03\n",
      "   3.95742358e-03   3.37890749e-03   3.37890749e-03   3.37890749e-03\n",
      "   3.37890749e-03   3.37890749e-03   3.37890749e-03   2.83170181e-03\n",
      "   2.83170181e-03   2.83170181e-03   2.83170181e-03   2.83170181e-03\n",
      "   2.83170181e-03   2.83170181e-03   2.83170181e-03   2.83170181e-03\n",
      "   2.31771268e-03   2.31771268e-03   2.31771268e-03   2.31771268e-03\n",
      "   2.31771268e-03   1.83924428e-03   1.83924428e-03   1.83924428e-03\n",
      "   1.83924428e-03   1.83924428e-03   1.83924428e-03   1.83924428e-03\n",
      "   1.83924428e-03   1.83924428e-03   1.39916053e-03   1.39916053e-03\n",
      "   1.39916053e-03   1.39916053e-03   1.39916053e-03   1.39916053e-03\n",
      "   1.39916053e-03   1.39916053e-03   1.39916053e-03   1.39916053e-03\n",
      "   1.25144722e-04]\n"
     ]
    }
   ],
   "source": [
    "data_handler.scale_vocab_dist(1.5)\n",
    "print(data_handler._vocab_dist)"
   ]
  },
  {
   "cell_type": "code",
   "execution_count": 101,
   "metadata": {
    "collapsed": false
   },
   "outputs": [
    {
     "data": {
      "text/plain": [
       "(0, 0.25)"
      ]
     },
     "execution_count": 101,
     "metadata": {},
     "output_type": "execute_result"
    },
    {
     "data": {
      "image/png": "[encoded data removed]",
      "text/plain": [
       "<matplotlib.figure.Figure at 0x114ef5350>"
      ]
     },
     "metadata": {},
     "output_type": "display_data"
    }
   ],
   "source": [
    "fig, (ax0, ax1) = plt.subplots(1,2, figsize=(16,9))\n",
    "ax0.bar(range(len(data_handler._vocab_dist)), data_handler._vocab_dist)\n",
    "ax1.bar(range(len(data_handler._true_vocab_dist)), data_handler._true_vocab_dist)\n",
    "ax0.set_ylim(0, .25)\n",
    "ax1.set_ylim(0, .25)"
   ]
  },
  {
   "cell_type": "code",
   "execution_count": 78,
   "metadata": {
    "collapsed": false
   },
   "outputs": [
    {
     "name": "stdout",
     "output_type": "stream",
     "text": [
      "(100, 2)\n",
      "(100, 1) (500, 1)\n",
      "[(600, 16, 2), (600, 2), (600, 1), (600, 1)]\n",
      "(100, 2)\n",
      "(100, 1) (500, 1)\n",
      "[(600, 16, 2), (600, 2), (600, 1), (600, 1)]\n",
      "(100, 2)\n",
      "(100, 1) (500, 1)\n",
      "[(600, 16, 2), (600, 2), (600, 1), (600, 1)]\n",
      "(100, 2)\n",
      "(100, 1) (500, 1)\n",
      "[(600, 16, 2), (600, 2), (600, 1), (600, 1)]\n",
      "(100, 2)\n",
      "(100, 1) (500, 1)\n",
      "[(600, 16, 2), (600, 2), (600, 1), (600, 1)]\n",
      "(100, 2)\n",
      "(100, 1) (500, 1)\n",
      "[(600, 16, 2), (600, 2), (600, 1), (600, 1)]\n",
      "(100, 2)\n",
      "(100, 1) (500, 1)\n",
      "[(600, 16, 2), (600, 2), (600, 1), (600, 1)]\n",
      "(100, 2)\n",
      "(100, 1) (500, 1)\n",
      "[(600, 16, 2), (600, 2), (600, 1), (600, 1)]\n",
      "(100, 2)\n",
      "(100, 1) (500, 1)\n",
      "[(600, 16, 2), (600, 2), (600, 1), (600, 1)]\n",
      "(100, 2)\n",
      "(100, 1) (500, 1)\n",
      "[(600, 16, 2), (600, 2), (600, 1), (600, 1)]\n",
      "(100, 2)\n",
      "(100, 1) (500, 1)\n",
      "[(600, 16, 2), (600, 2), (600, 1), (600, 1)]\n",
      "(100, 2)\n",
      "(100, 1) (500, 1)\n",
      "[(600, 16, 2), (600, 2), (600, 1), (600, 1)]\n",
      "(100, 2)\n",
      "(100, 1) (500, 1)\n",
      "[(600, 16, 2), (600, 2), (600, 1), (600, 1)]\n",
      "(100, 2)\n",
      "(100, 1) (500, 1)\n",
      "[(600, 16, 2), (600, 2), (600, 1), (600, 1)]\n",
      "(100, 2)\n",
      "(100, 1) (500, 1)\n",
      "[(600, 16, 2), (600, 2), (600, 1), (600, 1)]\n"
     ]
    }
   ],
   "source": [
    "for batch in data_handler.batches(100):\n",
    "    print([ t.shape for t in batch])"
   ]
  },
  {
   "cell_type": "code",
   "execution_count": 5,
   "metadata": {
    "collapsed": false
   },
   "outputs": [
    {
     "name": "stdout",
     "output_type": "stream",
     "text": [
      "Updating 60f4fb2..865390d\n",
      "Fast-forward\n",
      " wiki2sdp.py | 2 +-\n",
      " 1 file changed, 1 insertion(+), 1 deletion(-)\n"
     ]
    },
    {
     "name": "stderr",
     "output_type": "stream",
     "text": [
      "From github.com:teffland/Relation-Extraction\n",
      "   60f4fb2..865390d  master     -> origin/master\n"
     ]
    }
   ],
   "source": [
    "%%bash\n",
    "git pull"
   ]
  },
  {
   "cell_type": "code",
   "execution_count": 6,
   "metadata": {
    "collapsed": false
   },
   "outputs": [
    {
     "name": "stdout",
     "output_type": "stream",
     "text": [
      "================================================================================\n",
      "Analyzing 50000 sentences\n",
      "================================================================================\n",
      "(0:0:0) Reading Data...\n",
      "(0:1:22) Creating vocab...\n",
      "(0:1:24) Writing data...\n",
      "(0:3:54) Writing vocab...\n",
      "================================================================================\n",
      "DONE: Created 549566 SDPs from 50000 sentences with a total vocab size of 22265\n",
      "Took a total of 0:3:54 hours\n",
      "================================================================================\n"
     ]
    }
   ],
   "source": [
    "%%bash\n",
    "python wiki2sdp.py -n 50000 -m 3;"
   ]
  },
  {
   "cell_type": "code",
   "execution_count": null,
   "metadata": {
    "collapsed": false
   },
   "outputs": [],
   "source": [
    "%%bash\n",
    "tensorboard --port=6007 --logdir=tensor_summaries/drnn_wiki_w2v;"
   ]
  },
  {
   "cell_type": "code",
   "execution_count": 9,
   "metadata": {
    "collapsed": false
   },
   "outputs": [
    {
     "name": "stdout",
     "output_type": "stream",
     "text": [
      "drnn_embed_test1\n",
      "drnn_embed_wiki1\n",
      "drnn_embed_wiki_easy\n",
      "drnn_wiki_w2v\n"
     ]
    }
   ],
   "source": [
    "%%bash\n",
    "ls tensor_summaries"
   ]
  },
  {
   "cell_type": "code",
   "execution_count": null,
   "metadata": {
    "collapsed": true
   },
   "outputs": [],
   "source": []
  }
 ],
 "metadata": {
  "kernelspec": {
   "display_name": "Python 2",
   "language": "python",
   "name": "python2"
  },
  "language_info": {
   "codemirror_mode": {
    "name": "ipython",
    "version": 2
   },
   "file_extension": ".py",
   "mimetype": "text/x-python",
   "name": "python",
   "nbconvert_exporter": "python",
   "pygments_lexer": "ipython2",
   "version": "2.7.10"
  }
 },
 "nbformat": 4,
 "nbformat_minor": 0
}

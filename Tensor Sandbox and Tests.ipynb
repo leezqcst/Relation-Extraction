{
 "cells": [
  {
   "cell_type": "code",
   "execution_count": 1,
   "metadata": {
    "collapsed": true
   },
   "outputs": [],
   "source": [
    "\n",
    "import numpy as np\n",
    "import tensorflow as tf"
   ]
  },
  {
   "cell_type": "code",
   "execution_count": 2,
   "metadata": {
    "collapsed": false
   },
   "outputs": [],
   "source": [
    "sess = tf.InteractiveSession()"
   ]
  },
  {
   "cell_type": "code",
   "execution_count": 48,
   "metadata": {
    "collapsed": false
   },
   "outputs": [
    {
     "name": "stdout",
     "output_type": "stream",
     "text": [
      "(50, 1, 20)\n",
      "(50, 20, 20)\n",
      "(50, 1, 20)\n",
      "(50,)\n",
      "(10, 5)\n"
     ]
    }
   ],
   "source": [
    "b = 10\n",
    "h = 20\n",
    "n = 5\n",
    "x = tf.ones([b, h])\n",
    "W = tf.ones([h,h,n])\n",
    "y = tf.ones([b,h])\n",
    "\n",
    "x = tf.expand_dims(x, [1])\n",
    "# print x.get_shape()\n",
    "x = tf.tile(x, [n,1,1])\n",
    "# print x.get_shape()\n",
    "\n",
    "y = tf.expand_dims(y, [1])\n",
    "y = tf.tile(y, [n,1,1])\n",
    "print y.get_shape()\n",
    "W = tf.tile(tf.reshape(W, [-1, h, h]), [b, 1, 1])\n",
    "print W.get_shape()\n",
    "\n",
    "r = tf.batch_matmul(x, W)\n",
    "print r.get_shape()\n",
    "f = tf.squeeze(tf.batch_matmul(r, y, adj_y=True), [1,2])\n",
    "print f.get_shape() \n",
    "f = tf.reshape(f, [b,n])\n",
    "print f.get_shape()"
   ]
  },
  {
   "cell_type": "code",
   "execution_count": 5,
   "metadata": {
    "collapsed": false
   },
   "outputs": [
    {
     "ename": "TypeError",
     "evalue": "Bad slice index Tensor(\"pack_6:0\", shape=(3,), dtype=int32) of type <class 'tensorflow.python.framework.ops.Tensor'>",
     "output_type": "error",
     "traceback": [
      "\u001b[0;31m---------------------------------------------------------------------------\u001b[0m",
      "\u001b[0;31mTypeError\u001b[0m                                 Traceback (most recent call last)",
      "\u001b[0;32m<ipython-input-5-67c08cdd234b>\u001b[0m in \u001b[0;36m<module>\u001b[0;34m()\u001b[0m\n\u001b[1;32m      1\u001b[0m \u001b[0ma\u001b[0m \u001b[0;34m=\u001b[0m \u001b[0mtf\u001b[0m\u001b[0;34m.\u001b[0m\u001b[0mpack\u001b[0m\u001b[0;34m(\u001b[0m\u001b[0;34m[\u001b[0m\u001b[0;36m1\u001b[0m\u001b[0;34m,\u001b[0m\u001b[0;36m2\u001b[0m\u001b[0;34m,\u001b[0m\u001b[0;36m3\u001b[0m\u001b[0;34m,\u001b[0m\u001b[0;36m4\u001b[0m\u001b[0;34m,\u001b[0m\u001b[0;36m5\u001b[0m\u001b[0;34m,\u001b[0m\u001b[0;36m6\u001b[0m\u001b[0;34m,\u001b[0m\u001b[0;36m7\u001b[0m\u001b[0;34m]\u001b[0m\u001b[0;34m)\u001b[0m\u001b[0;34m\u001b[0m\u001b[0m\n\u001b[1;32m      2\u001b[0m \u001b[0ml\u001b[0m \u001b[0;34m=\u001b[0m \u001b[0mtf\u001b[0m\u001b[0;34m.\u001b[0m\u001b[0mpack\u001b[0m\u001b[0;34m(\u001b[0m\u001b[0;34m[\u001b[0m\u001b[0;36m0\u001b[0m\u001b[0;34m,\u001b[0m\u001b[0;36m3\u001b[0m\u001b[0;34m,\u001b[0m\u001b[0;36m6\u001b[0m\u001b[0;34m]\u001b[0m\u001b[0;34m)\u001b[0m\u001b[0;34m\u001b[0m\u001b[0m\n\u001b[0;32m----> 3\u001b[0;31m \u001b[0;32mprint\u001b[0m \u001b[0ma\u001b[0m\u001b[0;34m[\u001b[0m\u001b[0ml\u001b[0m\u001b[0;34m]\u001b[0m\u001b[0;34m.\u001b[0m\u001b[0meval\u001b[0m\u001b[0;34m(\u001b[0m\u001b[0;34m)\u001b[0m\u001b[0;34m\u001b[0m\u001b[0m\n\u001b[0m",
      "\u001b[0;32m/Users/thomaseffland/.virtualenvs/rel/lib/python2.7/site-packages/tensorflow/python/ops/array_ops.pyc\u001b[0m in \u001b[0;36m_SliceHelper\u001b[0;34m(tensor, slice_spec)\u001b[0m\n\u001b[1;32m    151\u001b[0m       \u001b[0;32mraise\u001b[0m \u001b[0mNotImplementedError\u001b[0m\u001b[0;34m(\u001b[0m\u001b[0;34m\"Ellipsis is not currently supported\"\u001b[0m\u001b[0;34m)\u001b[0m\u001b[0;34m\u001b[0m\u001b[0m\n\u001b[1;32m    152\u001b[0m     \u001b[0;32melse\u001b[0m\u001b[0;34m:\u001b[0m\u001b[0;34m\u001b[0m\u001b[0m\n\u001b[0;32m--> 153\u001b[0;31m       \u001b[0;32mraise\u001b[0m \u001b[0mTypeError\u001b[0m\u001b[0;34m(\u001b[0m\u001b[0;34m\"Bad slice index %s of type %s\"\u001b[0m \u001b[0;34m%\u001b[0m \u001b[0;34m(\u001b[0m\u001b[0ms\u001b[0m\u001b[0;34m,\u001b[0m \u001b[0mtype\u001b[0m\u001b[0;34m(\u001b[0m\u001b[0ms\u001b[0m\u001b[0;34m)\u001b[0m\u001b[0;34m)\u001b[0m\u001b[0;34m)\u001b[0m\u001b[0;34m\u001b[0m\u001b[0m\n\u001b[0m\u001b[1;32m    154\u001b[0m   \u001b[0msliced\u001b[0m \u001b[0;34m=\u001b[0m \u001b[0mslice\u001b[0m\u001b[0;34m(\u001b[0m\u001b[0mtensor\u001b[0m\u001b[0;34m,\u001b[0m \u001b[0mindices\u001b[0m\u001b[0;34m,\u001b[0m \u001b[0msizes\u001b[0m\u001b[0;34m)\u001b[0m\u001b[0;34m\u001b[0m\u001b[0m\n\u001b[1;32m    155\u001b[0m   \u001b[0;32mif\u001b[0m \u001b[0msqueeze_dims\u001b[0m\u001b[0;34m:\u001b[0m\u001b[0;34m\u001b[0m\u001b[0m\n",
      "\u001b[0;31mTypeError\u001b[0m: Bad slice index Tensor(\"pack_6:0\", shape=(3,), dtype=int32) of type <class 'tensorflow.python.framework.ops.Tensor'>"
     ]
    }
   ],
   "source": [
    "a = tf.pack([1,2,3,4,5,6,7])\n",
    "l = tf.pack([0,3,6])\n",
    "print a[l].eval()"
   ]
  },
  {
   "cell_type": "code",
   "execution_count": 65,
   "metadata": {
    "collapsed": true
   },
   "outputs": [],
   "source": [
    "def one_hot(dense_labels, num_classes):\n",
    "    sparse_labels = tf.reshape(dense_labels, [-1, 1])\n",
    "    derived_size = tf.shape(dense_labels)[0]\n",
    "    indices = tf.reshape(tf.range(0, derived_size, 1), [-1, 1])\n",
    "    concated = tf.concat(1, [indices, sparse_labels])\n",
    "    outshape = tf.pack([derived_size, num_classes])\n",
    "    labels = tf.sparse_to_dense(concated, outshape, 1.0, 0.0)\n",
    "    return labels"
   ]
  },
  {
   "cell_type": "markdown",
   "metadata": {},
   "source": [
    "Class Loss can be:\n",
    "    - Ranked Loss\n",
    "        If Softplus:\n",
    "        $$Ax =b$$\n",
    "        $\\mathcal{J} = \\um{ log(1 + exp(\\gamma - s_{c^*} + s_c))}$\n",
    "    - Softmax"
   ]
  },
  {
   "cell_type": "code",
   "execution_count": 158,
   "metadata": {
    "collapsed": false
   },
   "outputs": [],
   "source": [
    "def classification_loss(scores, class_labels, label_mask, margin=1.0, num_classes=3):\n",
    "    \"\"\"Calculate the classification loss of the network\n",
    "    \n",
    "    Args:\n",
    "        - scores (Tensor[batch_size, num_classes]): \n",
    "            The matrix of predicted scores for all examples\n",
    "            \n",
    "        - class_labels (Tensor[batch_size, 1]):\n",
    "            The list lof class labels with an expanded 2nd dimension\n",
    "            \n",
    "        - label_mask (Tensor[batch_size, num_classes], dtype=bool): \n",
    "            The boolean masked encoding of the class labels for the score tensor.\n",
    "            Done this way because sparse indicator masks in tensorflow have unknown shapes...\n",
    "    \n",
    "    Returns:\n",
    "        avg_class_loss: the average loss over all of the scores\n",
    "    \"\"\"\n",
    "    # get the true values\n",
    "    true_scores = tf.expand_dims(tf.boolean_mask(scores, label_mask), [1])\n",
    "    # set true values for 'Other' class to zero (we don't actually model that class)\n",
    "    others = (num_classes-1)*tf.ones_like(class_labels)\n",
    "    true_scores = tf.select(tf.equal(class_labels, others),\n",
    "                    tf.zeros_like(class_labels, dtype=tf.float32), \n",
    "                    true_scores, name=\"other_replace\")\n",
    "    # repeat the true score across columns for each row\n",
    "    tile_true_scores = tf.tile(true_scores, [1, num_classes])\n",
    "\n",
    "    # create margins same size as scores\n",
    "    margins = margin*tf.ones_like(scores)\n",
    "    \n",
    "    # calculate the intermediate loss value inside the real loss function\n",
    "    raw_loss = margins - tile_true_scores + scores\n",
    "    \n",
    "    # set the loss for true labels to 0\n",
    "    raw_loss = tf.select(label_mask, tf.zeros_like(raw_loss), raw_loss)\n",
    "        \n",
    "    # SOFT PLUS LOSS\n",
    "#     rank_loss = tf.nn.softplus(raw_loss)\n",
    "    # HINGE LOSS\n",
    "    rank_loss = tf.maximum(tf.zeros_like(scores, dtype=tf.float32), raw_loss)\n",
    "    return tf.reduce_mean(rank_loss)\n",
    "    "
   ]
  },
  {
   "cell_type": "code",
   "execution_count": 159,
   "metadata": {
    "collapsed": false
   },
   "outputs": [
    {
     "data": {
      "text/plain": [
       "array([[ 0.,  2.,  3.],\n",
       "       [ 0.,  0.,  2.],\n",
       "       [ 6.,  7.,  0.]], dtype=float32)"
      ]
     },
     "execution_count": 159,
     "metadata": {},
     "output_type": "execute_result"
    }
   ],
   "source": [
    "scores = tf.to_float(tf.pack([[1,2,3],[3,4,5], [5,6,7]]))\n",
    "class_labels = tf.to_int64(tf.pack([[0],[1],[2]]))\n",
    "sparse_class_labels = tf.SparseTensor(tf.transpose(tf.pack(\n",
    "                                       [tf.to_int64(tf.range(tf.shape(class_labels)[0])), \n",
    "                                        tf.squeeze(class_labels)])), \n",
    "                                        tf.squeeze(class_labels), \n",
    "                                        tf.to_int64(class_labels.get_shape()))\n",
    "true_mask = tf.squeeze(tf.pack([true_bool]))\n",
    "margin = 1\n",
    "num_classes = 3\n",
    "classification_loss(scores, class_labels, true_mask).eval()"
   ]
  },
  {
   "cell_type": "code",
   "execution_count": 148,
   "metadata": {
    "collapsed": false,
    "scrolled": true
   },
   "outputs": [
    {
     "name": "stdout",
     "output_type": "stream",
     "text": [
      "scores: \n",
      "[[ 1.  2.  3.]\n",
      " [ 3.  4.  5.]\n",
      " [ 5.  6.  7.]]\n",
      "Flat label indicator:  <unknown>\n",
      "Augmented Scores: \n",
      "[[ 0.  2.  3.]\n",
      " [ 3.  3.  5.]\n",
      " [ 5.  6.  6.]]\n",
      "Rank Hinge Loss: \n",
      "[[ 0.  2.  3.]\n",
      " [ 0.  0.  2.]\n",
      " [ 6.  7.  7.]]\n"
     ]
    }
   ],
   "source": [
    "print\"scores: \"\n",
    "print scores.eval()\n",
    "flat_scores = tf.reshape(scores, [-1])\n",
    "flat_true_indices = ( tf.squeeze(class_labels, [1]) \n",
    "                + tf.to_int64(tf.range(tf.shape(scores)[0])*tf.shape(scores)[1]))\n",
    "# set true scores to 0 for 'Other'\n",
    "flat_true_scores = tf.expand_dims(tf.gather(flat_scores, flat_true_indices), [1])\n",
    "others = (num_classes-1)*tf.ones_like(class_labels)\n",
    "true_scores = tf.select(tf.equal(class_labels, others),\n",
    "                    tf.zeros_like(class_labels, dtype=tf.float32), \n",
    "                    flat_true_scores, name=\"other_replace\")\n",
    "# tile it to match size of all scores (ie, same true score along all columns for each row)\n",
    "tile_true_scores = tf.tile(true_scores, [1, num_classes]) # [batch_size, num_classes]\n",
    "\n",
    "# subtract margin from all scores where the score is the true class\n",
    "# at these we'll have the loss is (margin - true_score + true_score) - margin = 0 \n",
    "# print(\"Sparse Labels: \", tf.sparse_tensor_to_dense(sparse_class_labels).eval())\n",
    "true_indicators = tf.sparse_to_indicator(sparse_class_labels, num_classes)\n",
    "true_bool = true_indicators.eval()\n",
    "print\"Flat label indicator: \", true_indicators.get_shape()\n",
    "scores = tf.select(true_indicators, (scores - margin), scores)\n",
    "print\"Augmented Scores: \"\n",
    "print scores.eval()\n",
    "# now calculate the component-wise rank losses\n",
    "# SOFT PLUS LOSS\n",
    "#     rank_loss = tf.nn.softplus(self._margin*tf.ones_like(scores) - tile_true_scores + scores)\n",
    "# HINGE LOSS\n",
    "print \"Rank Hinge Loss: \"\n",
    "rank_loss = tf.maximum(tf.zeros_like(scores, dtype=tf.float32), \n",
    "                   margin*tf.ones_like(scores) - tile_true_scores + scores)\n",
    "print rank_loss.eval()"
   ]
  },
  {
   "cell_type": "code",
   "execution_count": 150,
   "metadata": {
    "collapsed": false
   },
   "outputs": [
    {
     "name": "stdout",
     "output_type": "stream",
     "text": [
      "(3, 3) <unknown>\n",
      "[ 0.  3.  6.]\n"
     ]
    }
   ],
   "source": [
    "print scores.get_shape(), true_indicators.get_shape()\n",
    "true_mask = tf.squeeze(tf.pack([true_bool]))\n",
    "true_scores = tf.boolean_mask(scores, true_mask)\n",
    "print true_scores.eval()"
   ]
  },
  {
   "cell_type": "code",
   "execution_count": 160,
   "metadata": {
    "collapsed": true
   },
   "outputs": [],
   "source": [
    "labels = class_labels.eval()"
   ]
  },
  {
   "cell_type": "code",
   "execution_count": 161,
   "metadata": {
    "collapsed": false
   },
   "outputs": [
    {
     "name": "stdout",
     "output_type": "stream",
     "text": [
      "[[0]\n",
      " [1]\n",
      " [2]]\n"
     ]
    }
   ],
   "source": [
    "print labels"
   ]
  },
  {
   "cell_type": "code",
   "execution_count": 165,
   "metadata": {
    "collapsed": false
   },
   "outputs": [],
   "source": [
    "mask = np.zeros([len(labels), num_classes], dtype=np.bool)"
   ]
  },
  {
   "cell_type": "code",
   "execution_count": 168,
   "metadata": {
    "collapsed": false
   },
   "outputs": [],
   "source": [
    "for i in range(len(mask)):\n",
    "    mask[i, labels[i]] = True"
   ]
  },
  {
   "cell_type": "code",
   "execution_count": 169,
   "metadata": {
    "collapsed": false
   },
   "outputs": [
    {
     "name": "stdout",
     "output_type": "stream",
     "text": [
      "[[ True False False]\n",
      " [False  True False]\n",
      " [False False  True]]\n"
     ]
    }
   ],
   "source": [
    "print mask"
   ]
  },
  {
   "cell_type": "code",
   "execution_count": 171,
   "metadata": {
    "collapsed": false
   },
   "outputs": [
    {
     "data": {
      "text/plain": [
       "tf.bool"
      ]
     },
     "execution_count": 171,
     "metadata": {},
     "output_type": "execute_result"
    }
   ],
   "source": [
    "tf.bool"
   ]
  },
  {
   "cell_type": "markdown",
   "metadata": {
    "collapsed": true
   },
   "source": [
    "## Can we do higher dimensional inner products?"
   ]
  },
  {
   "cell_type": "code",
   "execution_count": 12,
   "metadata": {
    "collapsed": false
   },
   "outputs": [],
   "source": [
    "w = tf.ones([3,3,3])\n",
    "x = 2*tf.ones([100,3])\n",
    "y = 3*tf.ones([100,3])\n",
    "z = 4*tf.ones([100,3])"
   ]
  },
  {
   "cell_type": "code",
   "execution_count": 15,
   "metadata": {
    "collapsed": true
   },
   "outputs": [],
   "source": [
    "score = tf.zeros([100])\n",
    "for i in xrange(3):\n",
    "    for j in xrange(3):\n",
    "        for k in xrange(3):\n",
    "            score += w[i,j,k]*x[:,i]*y[:,j]*z[:,k]"
   ]
  },
  {
   "cell_type": "code",
   "execution_count": 17,
   "metadata": {
    "collapsed": false
   },
   "outputs": [
    {
     "name": "stdout",
     "output_type": "stream",
     "text": [
      "(100,)\n"
     ]
    }
   ],
   "source": [
    "print score.get_shape()"
   ]
  },
  {
   "cell_type": "code",
   "execution_count": 42,
   "metadata": {
    "collapsed": false
   },
   "outputs": [
    {
     "name": "stdout",
     "output_type": "stream",
     "text": [
      "(3,)\n"
     ]
    }
   ],
   "source": [
    "seqs = tf.pack([[1., 1., 0., 0.],\n",
    "                 [1., 1., 0., 0.],\n",
    "                 [1., 1., 0., 0.]])\n",
    "lens = tf.pack([2, 3, 4])\n",
    "batch_size = lens.get_shape()[0]\n",
    "print lens.get_shape()"
   ]
  },
  {
   "cell_type": "code",
   "execution_count": 49,
   "metadata": {
    "collapsed": false
   },
   "outputs": [
    {
     "data": {
      "text/plain": [
       "<tf.Tensor 'Reshape_11:0' shape=(3, 1) dtype=int32>"
      ]
     },
     "execution_count": 49,
     "metadata": {},
     "output_type": "execute_result"
    }
   ],
   "source": [
    "tf.reshape(lens, [-1,1])"
   ]
  },
  {
   "cell_type": "code",
   "execution_count": 52,
   "metadata": {
    "collapsed": false
   },
   "outputs": [
    {
     "name": "stdout",
     "output_type": "stream",
     "text": [
      "(3, 1)\n"
     ]
    }
   ],
   "source": [
    "inputs = [ tf.select(tf.less(i, lens), seq, tf.zeros_like(seq)).eval()\n",
    "            for i, seq in enumerate(tf.split(1, 4, seqs)) ]\n",
    "print inputs[0].shape"
   ]
  },
  {
   "cell_type": "code",
   "execution_count": 48,
   "metadata": {
    "collapsed": false
   },
   "outputs": [
    {
     "name": "stdout",
     "output_type": "stream",
     "text": [
      "[ 1.          0.66666669  0.5       ]\n"
     ]
    }
   ],
   "source": [
    "avg = tf.truediv(tf.reshape(tf.add_n(inputs), [-1]), tf.to_float(lens))\n",
    "print avg.eval()"
   ]
  },
  {
   "cell_type": "code",
   "execution_count": null,
   "metadata": {
    "collapsed": true
   },
   "outputs": [],
   "source": []
  }
 ],
 "metadata": {
  "kernelspec": {
   "display_name": "Python 2",
   "language": "python",
   "name": "python2"
  },
  "language_info": {
   "codemirror_mode": {
    "name": "ipython",
    "version": 2
   },
   "file_extension": ".py",
   "mimetype": "text/x-python",
   "name": "python",
   "nbconvert_exporter": "python",
   "pygments_lexer": "ipython2",
   "version": "2.7.10"
  }
 },
 "nbformat": 4,
 "nbformat_minor": 0
}
